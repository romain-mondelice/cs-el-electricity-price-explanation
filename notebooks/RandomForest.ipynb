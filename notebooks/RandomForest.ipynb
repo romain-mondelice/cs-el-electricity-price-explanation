{
 "cells": [
  {
   "cell_type": "code",
   "execution_count": 1,
   "metadata": {},
   "outputs": [],
   "source": [
    "from sklearn.ensemble import RandomForestRegressor\n",
    "from sklearn.model_selection import GridSearchCV\n",
    "from sklearn.metrics import mean_absolute_error, mean_squared_error\n",
    "from sklearn.preprocessing import StandardScaler\n",
    "from sklearn.model_selection import train_test_split\n",
    "import numpy as np\n",
    "import pandas as pd"
   ]
  },
  {
   "cell_type": "code",
   "execution_count": null,
   "metadata": {},
   "outputs": [],
   "source": [
    "X_train = pd.read_csv(\"/Users/b23/Desktop/ENS CHALLENGE/Catboost model/X_train_NHkHMNU.csv\")\n",
    "X_test = pd.read_csv(\"X_test_final.csv\")\n",
    "Y_train= pd.read_csv(\"/Users/b23/Desktop/ENS CHALLENGE/Catboost model/y_train_ZAN5mwg.csv\")\n",
    "Y_test = pd.read_csv(\"/Users/b23/Desktop/ENS CHALLENGE/Catboost model/y_test_random_final.csv\")"
   ]
  },
  {
   "cell_type": "code",
   "execution_count": null,
   "metadata": {},
   "outputs": [],
   "source": [
    "X_train = X_train.drop(['COUNTRY'], axis=1).fillna(0)\n",
    "X_test = X_test.drop(['COUNTRY'], axis=1).fillna(0)"
   ]
  },
  {
   "cell_type": "code",
   "execution_count": null,
   "metadata": {},
   "outputs": [],
   "source": [
    "Y_train = Y_train[Y_train.columns[0]]\n",
    "Y_test = Y_test[Y_test.columns[0]]"
   ]
  },
  {
   "cell_type": "code",
   "execution_count": null,
   "metadata": {},
   "outputs": [],
   "source": [
    "# Initialisation du StandardScaler\n",
    "scaler = StandardScaler()\n",
    "x_train_scaled = scaler.fit_transform(X_train)\n",
    "x_test_scaled = scaler.transform(X_test)\n",
    "\n",
    "# Définition du modèle\n",
    "random_forest = RandomForestRegressor(random_state=42)\n",
    "\n",
    "# Définition de l'espace des paramètres pour GridSearch\n",
    "param_grid = {\n",
    "    'n_estimators': [200],  # Nombre d'arbres dans la forêt\n",
    "    'max_depth': [10],  # Profondeur maximale de l'arbre\n",
    "    'min_samples_split': [10],  # Nombre minimum d'échantillons requis pour diviser un nœud interne\n",
    "    'min_samples_leaf': [1],  # Nombre minimum d'échantillons requis pour être au niveau d'un nœud feuille\n",
    "}\n",
    "\n",
    "# Configuration de GridSearchCV\n",
    "grid_search = GridSearchCV(estimator=random_forest, param_grid=param_grid, cv=3, n_jobs=-1, verbose=2, scoring='neg_mean_absolute_error')\n",
    "\n",
    "# Entraînement avec GridSearchCV\n",
    "grid_search.fit(x_train_scaled, Y_train)\n",
    "\n",
    "# Meilleur modèle après GridSearch\n",
    "best_model = grid_search.best_estimator_\n",
    "\n",
    "# Prédiction avec le meilleur modèle\n",
    "predictions = best_model.predict(x_test_scaled)\n",
    "\n",
    "# Évaluation du modèle\n",
    "mae = mean_absolute_error(Y_test, predictions)\n",
    "mse = np.sqrt(mean_squared_error(Y_test, predictions))\n",
    "\n",
    "print(f\"Mean Absolute Error (MAE): {mae}\")\n",
    "print(f\"Root Mean Squared Error (RMSE): {mse}\")\n",
    "print(f\"Meilleurs paramètres: {grid_search.best_params_}\")"
   ]
  },
  {
   "cell_type": "code",
   "execution_count": null,
   "metadata": {},
   "outputs": [],
   "source": [
    "# Accéder au meilleur modèle\n",
    "best_model_rf = grid_search.best_estimator_\n",
    "\n",
    "# Obtenir les importances des caractéristiques\n",
    "feature_importances_gb = best_model_rf.feature_importances_\n",
    "\n",
    "# Afficher les importances des caractéristiques\n",
    "features = X_train.columns\n",
    "importances_df_gb = pd.DataFrame({'Feature': features, 'Importance': feature_importances_gb})\n",
    "importances_df_gb = importances_df_gb.sort_values(by='Importance', ascending=False)\n",
    "print(importances_df_gb)"
   ]
  }
 ],
 "metadata": {
  "kernelspec": {
   "display_name": "ml",
   "language": "python",
   "name": "python3"
  },
  "language_info": {
   "codemirror_mode": {
    "name": "ipython",
    "version": 3
   },
   "file_extension": ".py",
   "mimetype": "text/x-python",
   "name": "python",
   "nbconvert_exporter": "python",
   "pygments_lexer": "ipython3",
   "version": "3.11.7"
  }
 },
 "nbformat": 4,
 "nbformat_minor": 2
}
